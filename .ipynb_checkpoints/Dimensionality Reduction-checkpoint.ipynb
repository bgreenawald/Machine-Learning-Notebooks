{
 "cells": [
  {
   "cell_type": "markdown",
   "metadata": {},
   "source": [
    "# Dimensionality Reduction\n",
    "\n",
    "There are many reasons that we might we to reduce the dimensionality of our data. In this context, reducing dimentionality is equivalent to removing independent variables. A natural question is, \"why would you ever want to remove independent variables, isn't more information better?\". In general, yes. But if some or many of your independent variables don't actually contribute to your model, their presence can be detrimental. Models with less variables have many benefits including faster model fitting, easier interpretation (this is especially true if the number of independent variables can be reduced to 2 or 1, since in those dimensions with can graph the results), and a reduction in the risk of overfitting. Thus the next question is how to go about reducing dimensionality, and deciding if we even need to. The two general types of dimensionality reducting are *feature selection* and *feature extraction*. In fact, we have already done feature selection, we just did not call if by name. Back in multiple linear regression when we did backwards elimination, we did feature selection as we selected only the features that contributed most to our model. The next couple of methods will be feature extraction. These methods deal with extracting out the relevant features without prior knowledge.\n",
    "\n",
    "# Principal Component Analysis (PCA)\n",
    "\n",
    "Principle component analysis (PCA) deals with extracting out the most relevant features, regardless of the dependent variable. The PCA algorithm chooses the independent variables with the most variance to be the independent variables. Since the variance of a variable is the same regardless of the dependent variable, the PCA algorithm doesn't take into consideration what the dependent variable is when making it's choice. For example, if you want to $2$ most relevant features, the PCA algorithm will return the $2$ variables with the highest variance to be your features. If you want the $n$ most relevant features, the algorithm chooses the $n$ variables with the highest variance. Since this choice is made without knowledge of the independent variable, this is called an *unsupervised model*. \n",
    "\n",
    "Let's look at PCA in action. First let us go over our business problem. The data set is a very famous that tracks a plethora of information about different wines. In the original data set, the dependent variable was the region the wine originated. In this modified version, a wine distributor ran a clustering model and came up with three different customer segments. The customer segment will be the dependent variable and we want to build up a classification model that can classify new wine observations into the customer segments. We could easily run logistic regression on the dataset as is to come up with a model, but unfortunetaly, the wine distributor is adamant about being able to visualize the results, meaning the max number of indepedent variables we can have is two. This means we need to run PCA on top of our normal logistic regression. We first read in the data and preprocess the data and then run the PCA."
   ]
  },
  {
   "cell_type": "code",
   "execution_count": 2,
   "metadata": {
    "collapsed": false
   },
   "outputs": [
    {
     "name": "stdout",
     "output_type": "stream",
     "text": [
      "[ 0.36884109  0.19318394]\n"
     ]
    }
   ],
   "source": [
    "import numpy as np\n",
    "import matplotlib.pyplot as plt\n",
    "import pandas as pd\n",
    "\n",
    "# Importing the dataset\n",
    "dataset = pd.read_csv('Wine.csv')\n",
    "X = dataset.iloc[:, 0:13].values\n",
    "y = dataset.iloc[:, 13].values\n",
    "\n",
    "# Splitting the dataset into the Training set and Test set\n",
    "from sklearn.model_selection import train_test_split\n",
    "X_train, X_test, y_train, y_test = train_test_split(X, y, test_size = 0.2, random_state = 0)\n",
    "\n",
    "# Feature Scaling\n",
    "from sklearn.preprocessing import StandardScaler\n",
    "sc = StandardScaler()\n",
    "X_train = sc.fit_transform(X_train)\n",
    "X_test = sc.transform(X_test)\n",
    "\n",
    "# Applying PCA\n",
    "from sklearn.decomposition import PCA\n",
    "pca = PCA(n_components = 2)\n",
    "X_train = pca.fit_transform(X_train)\n",
    "X_test = pca.transform(X_test)\n",
    "explained_variance = pca.explained_variance_ratio_\n",
    "print(explained_variance)"
   ]
  },
  {
   "cell_type": "markdown",
   "metadata": {},
   "source": [
    "The output from this code is the variance that was explained by our top two features. This means that our first features can explain ~37% of the variance and the second can explain ~19% of the variance. So our top two features can explain 56% of the data which is pretty good! So we will proceed with two features rather than the original twelve. We cannot explicately output what our two features are but with will be pretty easy to find out by just matching the columns in the original data.\n",
    "\n",
    "Now that we have two independent variables, we can run our logistic classifier as usual."
   ]
  },
  {
   "cell_type": "code",
   "execution_count": 3,
   "metadata": {
    "collapsed": false
   },
   "outputs": [
    {
     "name": "stdout",
     "output_type": "stream",
     "text": [
      "[[14  0  0]\n",
      " [ 1 15  0]\n",
      " [ 0  0  6]]\n"
     ]
    }
   ],
   "source": [
    "from sklearn.linear_model import LogisticRegression\n",
    "classifier = LogisticRegression(random_state = 0)\n",
    "classifier.fit(X_train, y_train)\n",
    "\n",
    "# Predicting the Test set results\n",
    "y_pred = classifier.predict(X_test)\n",
    "\n",
    "# Making the Confusion Matrix\n",
    "from sklearn.metrics import confusion_matrix\n",
    "cm = confusion_matrix(y_test, y_pred)\n",
    "print(cm)"
   ]
  },
  {
   "cell_type": "markdown",
   "metadata": {},
   "source": [
    "The confusion matrix shows that our model is quite accurate. Now we can reap the benefits of our PCA and visualize our results (which we could certainly not do if we had kept our original data). "
   ]
  },
  {
   "cell_type": "code",
   "execution_count": 4,
   "metadata": {
    "collapsed": false
   },
   "outputs": [
    {
     "data": {
      "image/png": "[encoded data removed]",
      "text/plain": [
       "<matplotlib.figure.Figure at 0x2843393fc88>"
      ]
     },
     "metadata": {},
     "output_type": "display_data"
    }
   ],
   "source": [
    "from matplotlib.colors import ListedColormap\n",
    "X_set, y_set = X_train, y_train\n",
    "X1, X2 = np.meshgrid(np.arange(start = X_set[:, 0].min() - 1, stop = X_set[:, 0].max() + 1, step = 0.01),\n",
    "                     np.arange(start = X_set[:, 1].min() - 1, stop = X_set[:, 1].max() + 1, step = 0.01))\n",
    "plt.contourf(X1, X2, classifier.predict(np.array([X1.ravel(), X2.ravel()]).T).reshape(X1.shape),\n",
    "             alpha = 0.75, cmap = ListedColormap(('red', 'green', 'blue')))\n",
    "plt.xlim(X1.min(), X1.max())\n",
    "plt.ylim(X2.min(), X2.max())\n",
    "for i, j in enumerate(np.unique(y_set)):\n",
    "    plt.scatter(X_set[y_set == j, 0], X_set[y_set == j, 1],\n",
    "                c = ListedColormap(('red', 'green', 'blue'))(i), label = j)\n",
    "plt.title('Logistic Regression (Training set)')\n",
    "plt.xlabel('PC1')\n",
    "plt.ylabel('PC2')\n",
    "plt.legend()\n",
    "plt.show()"
   ]
  },
  {
   "cell_type": "code",
   "execution_count": 5,
   "metadata": {
    "collapsed": false
   },
   "outputs": [
    {
     "data": {
      "image/png": "[encoded data removed]",
      "text/plain": [
       "<matplotlib.figure.Figure at 0x284363b0908>"
      ]
     },
     "metadata": {},
     "output_type": "display_data"
    }
   ],
   "source": [
    "X_set, y_set = X_test, y_test\n",
    "X1, X2 = np.meshgrid(np.arange(start = X_set[:, 0].min() - 1, stop = X_set[:, 0].max() + 1, step = 0.01),\n",
    "                     np.arange(start = X_set[:, 1].min() - 1, stop = X_set[:, 1].max() + 1, step = 0.01))\n",
    "plt.contourf(X1, X2, classifier.predict(np.array([X1.ravel(), X2.ravel()]).T).reshape(X1.shape),\n",
    "             alpha = 0.75, cmap = ListedColormap(('red', 'green', 'blue')))\n",
    "plt.xlim(X1.min(), X1.max())\n",
    "plt.ylim(X2.min(), X2.max())\n",
    "for i, j in enumerate(np.unique(y_set)):\n",
    "    plt.scatter(X_set[y_set == j, 0], X_set[y_set == j, 1],\n",
    "                c = ListedColormap(('red', 'green', 'blue'))(i), label = j)\n",
    "plt.title('Logistic Regression (Test set)')\n",
    "plt.xlabel('PC1')\n",
    "plt.ylabel('PC2')\n",
    "plt.legend()\n",
    "plt.show()"
   ]
  },
  {
   "cell_type": "markdown",
   "metadata": {},
   "source": [
    "# Linear Discriminate Analysis (LDA)\n",
    "\n",
    "We will now skim over two other methods of dimensionality reduction (we will not go into them in as much detail as they are very similar to what we just did). Linear Discriminate Analysis (LDA) is another feature extraction algorithm but it chooses the variables that can best split our dependent variable into the classification sets (this should sound a lot like the SVM algorithm from the classification section, because it it). Remember that in this business problem, we are trying to classify our wine into customer segments. LDA is going to go through and pick the features which are able to best split the data into the correct segments and select those as our features. The code is extremely similiar but is shown below for convenience."
   ]
  },
  {
   "cell_type": "code",
   "execution_count": 6,
   "metadata": {
    "collapsed": true
   },
   "outputs": [],
   "source": [
    "from sklearn.discriminant_analysis import LinearDiscriminantAnalysis as LDA\n",
    "lda = LDA(n_components = 2)\n",
    "X_train = lda.fit_transform(X_train, y_train)\n",
    "X_test = lda.transform(X_test)"
   ]
  },
  {
   "cell_type": "markdown",
   "metadata": {},
   "source": [
    "LDA can get extremely high accuracy scores if the data is linearly seperable with respect to any of the variables present (in fact, it will achieve 100% accuracy in these cases). Next, we will look at a method that works well when the dependent variable is not linearly separable with respect to any of the features. \n",
    "\n",
    "# Kernel Disriminate Analysis (KDA)\n",
    "\n",
    "When our data is not linearly separable, we turn to the kernel discriminate analysis (KDA). KDA uses the kernel trick to map the data into higher dimensions and then chooses the features that best split it up into the dependent variable classes (again, this should sound a lot like kernel SVM, because it is). The data is again nearly identical to what we have seen."
   ]
  },
  {
   "cell_type": "code",
   "execution_count": 8,
   "metadata": {
    "collapsed": true
   },
   "outputs": [],
   "source": [
    "from sklearn.decomposition import KernelPCA\n",
    "kpca = KernelPCA(n_components = 2, kernel = 'rbf')\n",
    "X_train = kpca.fit_transform(X_train)\n",
    "X_test = kpca.transform(X_test)"
   ]
  },
  {
   "cell_type": "markdown",
   "metadata": {},
   "source": [
    "We have now seen various techniques to perform dimensionality reduction, but the question remains \"when should dimensionality reduction be used?\" Like many questions we have seen so far, the answer is disappointingly, it depends on the context. As we saw in our business problem, the need to visualize results is a strong reason. Another is making sure your models can run in a reasonable time (for most machine learning algorithms, more variables = reduced performance). You could also simply choose dimensionality reduction because you believe some variables don't belong in your model. Practice will help dictate when to use these techniques."
   ]
  },
  {
   "cell_type": "code",
   "execution_count": null,
   "metadata": {
    "collapsed": true
   },
   "outputs": [],
   "source": []
  }
 ],
 "metadata": {
  "kernelspec": {
   "display_name": "Python [conda root]",
   "language": "python",
   "name": "conda-root-py"
  },
  "language_info": {
   "codemirror_mode": {
    "name": "ipython",
    "version": 3
   },
   "file_extension": ".py",
   "mimetype": "text/x-python",
   "name": "python",
   "nbconvert_exporter": "python",
   "pygments_lexer": "ipython3",
   "version": "3.5.3"
  }
 },
 "nbformat": 4,
 "nbformat_minor": 2
}
